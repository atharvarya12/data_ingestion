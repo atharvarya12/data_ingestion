{
 "cells": [
  {
   "cell_type": "code",
   "execution_count": 5,
   "id": "45434f0f",
   "metadata": {},
   "outputs": [
    {
     "name": "stdout",
     "output_type": "stream",
     "text": [
      "Requirement already satisfied: psycopg2-binary in .\\.venv\\lib\\site-packages (2.9.10)\n",
      "Note: you may need to restart the kernel to use updated packages.\n",
      "Requirement already satisfied: pandas in .\\.venv\\lib\\site-packages (2.3.0)\n",
      "Requirement already satisfied: numpy>=1.23.2 in .\\.venv\\lib\\site-packages (from pandas) (2.3.1)\n",
      "Requirement already satisfied: python-dateutil>=2.8.2 in .\\.venv\\lib\\site-packages (from pandas) (2.9.0.post0)\n",
      "Requirement already satisfied: pytz>=2020.1 in .\\.venv\\lib\\site-packages (from pandas) (2025.2)\n",
      "Requirement already satisfied: tzdata>=2022.7 in .\\.venv\\lib\\site-packages (from pandas) (2025.2)\n",
      "Requirement already satisfied: six>=1.5 in .\\.venv\\lib\\site-packages (from python-dateutil>=2.8.2->pandas) (1.17.0)\n",
      "Note: you may need to restart the kernel to use updated packages.\n",
      "Collecting sqlalchemy\n",
      "  Downloading sqlalchemy-2.0.41-cp311-cp311-win_amd64.whl.metadata (9.8 kB)\n",
      "Collecting greenlet>=1 (from sqlalchemy)\n",
      "  Downloading greenlet-3.2.3-cp311-cp311-win_amd64.whl.metadata (4.2 kB)\n",
      "Requirement already satisfied: typing-extensions>=4.6.0 in .\\.venv\\lib\\site-packages (from sqlalchemy) (4.14.0)\n",
      "Downloading sqlalchemy-2.0.41-cp311-cp311-win_amd64.whl (2.1 MB)\n",
      "   ---------------------------------------- 0.0/2.1 MB ? eta -:--:--\n",
      "   ---------------------------------------- 2.1/2.1 MB 39.3 MB/s eta 0:00:00\n",
      "Downloading greenlet-3.2.3-cp311-cp311-win_amd64.whl (297 kB)\n",
      "Installing collected packages: greenlet, sqlalchemy\n",
      "\n",
      "   ---------------------------------------- 0/2 [greenlet]\n",
      "   ---------------------------------------- 0/2 [greenlet]\n",
      "   -------------------- ------------------- 1/2 [sqlalchemy]\n",
      "   -------------------- ------------------- 1/2 [sqlalchemy]\n",
      "   -------------------- ------------------- 1/2 [sqlalchemy]\n",
      "   -------------------- ------------------- 1/2 [sqlalchemy]\n",
      "   -------------------- ------------------- 1/2 [sqlalchemy]\n",
      "   -------------------- ------------------- 1/2 [sqlalchemy]\n",
      "   -------------------- ------------------- 1/2 [sqlalchemy]\n",
      "   -------------------- ------------------- 1/2 [sqlalchemy]\n",
      "   -------------------- ------------------- 1/2 [sqlalchemy]\n",
      "   -------------------- ------------------- 1/2 [sqlalchemy]\n",
      "   -------------------- ------------------- 1/2 [sqlalchemy]\n",
      "   -------------------- ------------------- 1/2 [sqlalchemy]\n",
      "   -------------------- ------------------- 1/2 [sqlalchemy]\n",
      "   -------------------- ------------------- 1/2 [sqlalchemy]\n",
      "   -------------------- ------------------- 1/2 [sqlalchemy]\n",
      "   -------------------- ------------------- 1/2 [sqlalchemy]\n",
      "   -------------------- ------------------- 1/2 [sqlalchemy]\n",
      "   -------------------- ------------------- 1/2 [sqlalchemy]\n",
      "   -------------------- ------------------- 1/2 [sqlalchemy]\n",
      "   -------------------- ------------------- 1/2 [sqlalchemy]\n",
      "   -------------------- ------------------- 1/2 [sqlalchemy]\n",
      "   -------------------- ------------------- 1/2 [sqlalchemy]\n",
      "   -------------------- ------------------- 1/2 [sqlalchemy]\n",
      "   -------------------- ------------------- 1/2 [sqlalchemy]\n",
      "   -------------------- ------------------- 1/2 [sqlalchemy]\n",
      "   -------------------- ------------------- 1/2 [sqlalchemy]\n",
      "   -------------------- ------------------- 1/2 [sqlalchemy]\n",
      "   ---------------------------------------- 2/2 [sqlalchemy]\n",
      "\n",
      "Successfully installed greenlet-3.2.3 sqlalchemy-2.0.41\n",
      "Note: you may need to restart the kernel to use updated packages.\n"
     ]
    }
   ],
   "source": [
    "%pip install psycopg2-binary\n",
    "%pip install pandas\n",
    "%pip install sqlalchemy\n"
   ]
  },
  {
   "cell_type": "code",
   "execution_count": 13,
   "id": "d5ad03d1",
   "metadata": {},
   "outputs": [
    {
     "name": "stdout",
     "output_type": "stream",
     "text": [
      "        nct_id          phase                       condition  \\\n",
      "0  NCT00000102  PHASE1/PHASE2  Congenital Adrenal Hyperplasia   \n",
      "1  NCT00000104           None                  Lead Poisoning   \n",
      "2  NCT00000105           None                          Cancer   \n",
      "3  NCT00000106             NA              Rheumatic Diseases   \n",
      "4  NCT00000107           None       Heart Defects, Congenital   \n",
      "\n",
      "  intervention_type sponsor_type  enrollment      status outcome_label  \n",
      "0              DRUG          NIH         NaN   COMPLETED          None  \n",
      "1         PROCEDURE          FED         NaN   COMPLETED          None  \n",
      "2        BIOLOGICAL        OTHER       112.0  TERMINATED          None  \n",
      "3            DEVICE          NIH         NaN     UNKNOWN          None  \n",
      "4              None          NIH         NaN   COMPLETED          None  \n",
      "Saved to aact_trials_sample.csv\n"
     ]
    }
   ],
   "source": [
    "import pandas as pd\n",
    "from sqlalchemy import create_engine\n",
    "\n",
    "# --- AACT PostgreSQL Database Credentials ---\n",
    "USERNAME = \"rexr238\"\n",
    "PASSWORD = \"RexR%409113407564\"\n",
    "HOST = \"aact-db.ctti-clinicaltrials.org\"\n",
    "PORT = \"5432\"\n",
    "DATABASE = \"aact\"\n",
    "\n",
    "# --- SQLAlchemy connection string ---\n",
    "DATABASE_URL = f\"postgresql+psycopg2://{USERNAME}:{PASSWORD}@{HOST}:{PORT}/{DATABASE}\"\n",
    "\n",
    "# --- SQL Query to fetch 1000 studies ---\n",
    "SQL_QUERY = \"\"\"\n",
    "SELECT DISTINCT ON (s.nct_id)\n",
    "    s.nct_id,\n",
    "    s.phase,\n",
    "    c.name AS condition,\n",
    "    i.intervention_type,\n",
    "    sp.agency_class AS sponsor_type,\n",
    "    s.enrollment,\n",
    "    s.overall_status AS status,\n",
    "    o.title AS outcome_label\n",
    "FROM studies s\n",
    "LEFT JOIN conditions c ON s.nct_id = c.nct_id\n",
    "LEFT JOIN interventions i ON s.nct_id = i.nct_id\n",
    "LEFT JOIN sponsors sp ON s.nct_id = sp.nct_id\n",
    "LEFT JOIN outcomes o ON s.nct_id = o.nct_id\n",
    "LIMIT 1000;\n",
    "\n",
    "\n",
    "\"\"\"\n",
    "\n",
    "def fetch_trials():\n",
    "    try:\n",
    "        # Create connection engine\n",
    "        engine = create_engine(DATABASE_URL)\n",
    "\n",
    "        # Fetch data\n",
    "        df = pd.read_sql_query(SQL_QUERY, engine)\n",
    "        print(df.head())  # Print first few rows\n",
    "\n",
    "        # Optionally save to CSV\n",
    "        df.to_csv(\"aact_trials_sample.csv\", index=False)\n",
    "        print(\"Saved to aact_trials_sample.csv\")\n",
    "\n",
    "    except Exception as e:\n",
    "        print(\"Error occurred:\", e)\n",
    "\n",
    "# Run\n",
    "if __name__ == \"__main__\":\n",
    "    fetch_trials()\n"
   ]
  },
  {
   "cell_type": "code",
   "execution_count": 15,
   "id": "e974115d",
   "metadata": {},
   "outputs": [
    {
     "name": "stdout",
     "output_type": "stream",
     "text": [
      "        nct_id          phase                       condition  \\\n",
      "0  NCT00000102  PHASE1/PHASE2  Congenital Adrenal Hyperplasia   \n",
      "1  NCT00000104            NaN                  Lead Poisoning   \n",
      "2  NCT00000105            NaN                          Cancer   \n",
      "3  NCT00000106            NaN              Rheumatic Diseases   \n",
      "4  NCT00000107            NaN       Heart Defects, Congenital   \n",
      "\n",
      "  intervention_type sponsor_type  enrollment      status outcome_label  \n",
      "0              DRUG          NIH         NaN   COMPLETED           NaN  \n",
      "1         PROCEDURE          FED         NaN   COMPLETED           NaN  \n",
      "2        BIOLOGICAL        OTHER       112.0  TERMINATED           NaN  \n",
      "3            DEVICE          NIH         NaN     UNKNOWN           NaN  \n",
      "4               NaN          NIH         NaN   COMPLETED           NaN  \n",
      "Index(['nct_id', 'phase', 'condition', 'intervention_type', 'sponsor_type',\n",
      "       'enrollment', 'status', 'outcome_label'],\n",
      "      dtype='object')\n"
     ]
    }
   ],
   "source": [
    "df = pd.read_csv(\"aact_trials_sample.csv\")  # or from SQL query directly\n",
    "print(df.head())\n",
    "print(df.columns)\n"
   ]
  },
  {
   "cell_type": "code",
   "execution_count": 16,
   "id": "ccd261d5",
   "metadata": {},
   "outputs": [
    {
     "name": "stdout",
     "output_type": "stream",
     "text": [
      "nct_id                 0\n",
      "phase                170\n",
      "condition              0\n",
      "intervention_type     47\n",
      "sponsor_type           0\n",
      "enrollment           239\n",
      "status                 0\n",
      "outcome_label        988\n",
      "dtype: int64\n"
     ]
    }
   ],
   "source": [
    "print(df.isnull().sum())\n"
   ]
  },
  {
   "cell_type": "code",
   "execution_count": 17,
   "id": "a0a6652a",
   "metadata": {},
   "outputs": [
    {
     "data": {
      "text/plain": [
       "outcome_label        98.8\n",
       "enrollment           23.9\n",
       "phase                17.0\n",
       "intervention_type     4.7\n",
       "condition             0.0\n",
       "nct_id                0.0\n",
       "sponsor_type          0.0\n",
       "status                0.0\n",
       "dtype: float64"
      ]
     },
     "execution_count": 17,
     "metadata": {},
     "output_type": "execute_result"
    }
   ],
   "source": [
    "# See % of missing values per column\n",
    "(df.isnull().mean() * 100).round(1).sort_values(ascending=False)\n"
   ]
  },
  {
   "cell_type": "code",
   "execution_count": 18,
   "id": "5c0d5680",
   "metadata": {},
   "outputs": [
    {
     "name": "stdout",
     "output_type": "stream",
     "text": [
      "Unique values per column:\n",
      "nct_id: 1000 unique\n",
      "phase: 6 unique\n",
      "condition: 134 unique\n",
      "intervention_type: 7 unique\n",
      "sponsor_type: 4 unique\n",
      "enrollment: 232 unique\n",
      "status: 4 unique\n",
      "outcome_label: 11 unique\n"
     ]
    }
   ],
   "source": [
    "print(\"Unique values per column:\")\n",
    "for col in df.columns:\n",
    "    print(f\"{col}: {df[col].nunique()} unique\")\n"
   ]
  },
  {
   "cell_type": "code",
   "execution_count": 19,
   "id": "d84eaa17",
   "metadata": {},
   "outputs": [
    {
     "name": "stdout",
     "output_type": "stream",
     "text": [
      "Phases: ['PHASE1/PHASE2' 'PHASE1' 'PHASE3' 'PHASE2' 'PHASE2/PHASE3' 'PHASE4']\n",
      "Intervention Types: ['DRUG' 'PROCEDURE' 'BIOLOGICAL' 'DEVICE' 'BEHAVIORAL' 'OTHER'\n",
      " 'DIETARY_SUPPLEMENT']\n",
      "Sponsor Types: ['NIH' 'FED' 'OTHER' 'INDUSTRY']\n",
      "Statuses: ['COMPLETED' 'TERMINATED' 'UNKNOWN' 'WITHDRAWN']\n"
     ]
    }
   ],
   "source": [
    "# For small columns like phase, intervention_type, etc.\n",
    "print(\"Phases:\", df['phase'].dropna().unique())\n",
    "print(\"Intervention Types:\", df['intervention_type'].dropna().unique())\n",
    "print(\"Sponsor Types:\", df['sponsor_type'].dropna().unique())\n",
    "print(\"Statuses:\", df['status'].dropna().unique())\n"
   ]
  },
  {
   "cell_type": "code",
   "execution_count": null,
   "id": "0384f1b8",
   "metadata": {},
   "outputs": [],
   "source": []
  }
 ],
 "metadata": {
  "kernelspec": {
   "display_name": ".venv",
   "language": "python",
   "name": "python3"
  },
  "language_info": {
   "codemirror_mode": {
    "name": "ipython",
    "version": 3
   },
   "file_extension": ".py",
   "mimetype": "text/x-python",
   "name": "python",
   "nbconvert_exporter": "python",
   "pygments_lexer": "ipython3",
   "version": "3.11.9"
  }
 },
 "nbformat": 4,
 "nbformat_minor": 5
}
